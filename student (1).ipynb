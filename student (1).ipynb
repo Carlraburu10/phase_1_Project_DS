{
 "cells": [
  {
   "cell_type": "markdown",
   "metadata": {},
   "source": [
    "# Final Project Submission\n",
    "\n",
    "**Student Name:** Peter Otieno  \n",
    "**Student Pace:** Full time  \n",
    "**Scheduled Project Review Date/Time:** 9/12/23  \n",
    "**Instructor Name:** Lucille Kaleha  \n",
    "\n"
   ]
  },
  {
   "cell_type": "markdown",
   "metadata": {},
   "source": [
    "\n",
    "# Microsoft Goes to the Movies"
   ]
  },
  {
   "cell_type": "markdown",
   "metadata": {},
   "source": [
    "## Overview\n",
    "This project analyzes current box office and movie trends to make recommendations to Microsoft Corporation. Namely:\n",
    "-   Why should Microsoft get into the movie making space?\n",
    "- What movie genres are currently performing well and should be focused on? Both with the regular movie going audience as well as critics.\n",
    "- What can Microsoft bring to the table that other companies cannot?\n",
    " \n",
    "The first two questions can generally be answered by looking at different movie trends in the last few years. The latter would require delving into Microsoft's unique position in the space and leveraging their list of growing IPs\n",
    " \n",
    "## Business Problem\n",
    "Having seen the commercial and critical success enjoyed by companies like Netflix, Amazon, Apple, and HBO, prominent stakeholders at Microsoft have decided to launch a film/television studio. However, they have no clue as to *what kind* of movies they should be making in order to be competitive. We will need to analyze various datasets to provide evidence-based recommendations for Microsoft’s \n",
    " \n",
    " ## Data\n",
    "To generate revenue based trends and data we used data from *www.the-numbers.com* which provides detailed movie financial analysis, including box office, DVD and Blu-ray sales reports, and release schedules. We will be focusing primarily on box office earnings to comment on industry trends.\n",
    " \n",
    "This report also utilizes *www.imdb.com* and *rottentomatoes.com*. Both websites are run off of user interaction and user generated content regarding different movies. The former being an indicator of popularity of various titles using a review and rating system, and the latter being a review aggregator as posted by critics. We shall employ these sites to see what genres are popular by both regular viewers and critics.\n",
    " \n",
    "Microsoft has acquired a few new companies in the last few years especially in the video games sector. This makes Microsoft uniquely positioned to leverage IPs that they hold to make original content or maybe even licensing. Webscraping was used to gather some of this data. \n",
    "In conjunction with this we shall cross reference a sales dataset to see what video game IPs Microsoft owns that are popular and make direct video game adaptation recommendations."
   ]
  },
  {
   "cell_type": "markdown",
   "metadata": {},
   "source": [
    "# Outline of the Notebook\n"
   ]
  },
  {
   "cell_type": "markdown",
   "metadata": {},
   "source": [
    "- Working with dataset from TheNumbers\n",
    "- Rotten Tomatoes Data Set\n",
    "- Understanding The IMBD Data Set\n",
    "- Exploring Microsofts IPs within the Gaming Industry"
   ]
  },
  {
   "cell_type": "markdown",
   "metadata": {},
   "source": [
    "Imported All Libraries Used"
   ]
  },
  {
   "cell_type": "code",
   "execution_count": 3,
   "metadata": {},
   "outputs": [],
   "source": [
    "import sqlite3\n",
    "import pandas as pd\n",
    "import numpy as np\n",
    "import seaborn as sns\n",
    "import matplotlib.pyplot as plt\n",
    "from matplotlib import ticker\n",
    "%matplotlib inline\n",
    "\n",
    "import requests\n",
    "from bs4 import BeautifulSoup\n",
    "\n",
    "import warnings\n",
    "warnings.filterwarnings(\"ignore\")\n"
   ]
  },
  {
   "cell_type": "markdown",
   "metadata": {},
   "source": [
    "## Working with dataset from 'The-Numbers.com'"
   ]
  },
  {
   "cell_type": "code",
   "execution_count": 4,
   "metadata": {},
   "outputs": [
    {
     "data": {
      "text/html": [
       "<div>\n",
       "<style scoped>\n",
       "    .dataframe tbody tr th:only-of-type {\n",
       "        vertical-align: middle;\n",
       "    }\n",
       "\n",
       "    .dataframe tbody tr th {\n",
       "        vertical-align: top;\n",
       "    }\n",
       "\n",
       "    .dataframe thead th {\n",
       "        text-align: right;\n",
       "    }\n",
       "</style>\n",
       "<table border=\"1\" class=\"dataframe\">\n",
       "  <thead>\n",
       "    <tr style=\"text-align: right;\">\n",
       "      <th></th>\n",
       "      <th>id</th>\n",
       "      <th>release_date</th>\n",
       "      <th>movie</th>\n",
       "      <th>production_budget</th>\n",
       "      <th>domestic_gross</th>\n",
       "      <th>worldwide_gross</th>\n",
       "    </tr>\n",
       "  </thead>\n",
       "  <tbody>\n",
       "    <tr>\n",
       "      <th>0</th>\n",
       "      <td>1</td>\n",
       "      <td>Dec 18, 2009</td>\n",
       "      <td>Avatar</td>\n",
       "      <td>$425,000,000</td>\n",
       "      <td>$760,507,625</td>\n",
       "      <td>$2,776,345,279</td>\n",
       "    </tr>\n",
       "    <tr>\n",
       "      <th>1</th>\n",
       "      <td>2</td>\n",
       "      <td>May 20, 2011</td>\n",
       "      <td>Pirates of the Caribbean: On Stranger Tides</td>\n",
       "      <td>$410,600,000</td>\n",
       "      <td>$241,063,875</td>\n",
       "      <td>$1,045,663,875</td>\n",
       "    </tr>\n",
       "    <tr>\n",
       "      <th>2</th>\n",
       "      <td>3</td>\n",
       "      <td>Jun 7, 2019</td>\n",
       "      <td>Dark Phoenix</td>\n",
       "      <td>$350,000,000</td>\n",
       "      <td>$42,762,350</td>\n",
       "      <td>$149,762,350</td>\n",
       "    </tr>\n",
       "    <tr>\n",
       "      <th>3</th>\n",
       "      <td>4</td>\n",
       "      <td>May 1, 2015</td>\n",
       "      <td>Avengers: Age of Ultron</td>\n",
       "      <td>$330,600,000</td>\n",
       "      <td>$459,005,868</td>\n",
       "      <td>$1,403,013,963</td>\n",
       "    </tr>\n",
       "    <tr>\n",
       "      <th>4</th>\n",
       "      <td>5</td>\n",
       "      <td>Dec 15, 2017</td>\n",
       "      <td>Star Wars Ep. VIII: The Last Jedi</td>\n",
       "      <td>$317,000,000</td>\n",
       "      <td>$620,181,382</td>\n",
       "      <td>$1,316,721,747</td>\n",
       "    </tr>\n",
       "  </tbody>\n",
       "</table>\n",
       "</div>"
      ],
      "text/plain": [
       "   id  release_date                                        movie  \\\n",
       "0   1  Dec 18, 2009                                       Avatar   \n",
       "1   2  May 20, 2011  Pirates of the Caribbean: On Stranger Tides   \n",
       "2   3   Jun 7, 2019                                 Dark Phoenix   \n",
       "3   4   May 1, 2015                      Avengers: Age of Ultron   \n",
       "4   5  Dec 15, 2017            Star Wars Ep. VIII: The Last Jedi   \n",
       "\n",
       "  production_budget domestic_gross worldwide_gross  \n",
       "0      $425,000,000   $760,507,625  $2,776,345,279  \n",
       "1      $410,600,000   $241,063,875  $1,045,663,875  \n",
       "2      $350,000,000    $42,762,350    $149,762,350  \n",
       "3      $330,600,000   $459,005,868  $1,403,013,963  \n",
       "4      $317,000,000   $620,181,382  $1,316,721,747  "
      ]
     },
     "execution_count": 4,
     "metadata": {},
     "output_type": "execute_result"
    }
   ],
   "source": [
    "#Load 'The Numbers' dataset\n",
    "tn_df = pd.read_csv('tn.movie_budgets.csv')\n",
    "tn_df.head()"
   ]
  },
  {
   "cell_type": "code",
   "execution_count": 5,
   "metadata": {},
   "outputs": [
    {
     "data": {
      "text/plain": [
       "(5782, 6)"
      ]
     },
     "execution_count": 5,
     "metadata": {},
     "output_type": "execute_result"
    }
   ],
   "source": [
    "tn_df.shape"
   ]
  },
  {
   "cell_type": "code",
   "execution_count": 6,
   "metadata": {},
   "outputs": [
    {
     "name": "stdout",
     "output_type": "stream",
     "text": [
      "<class 'pandas.core.frame.DataFrame'>\n",
      "RangeIndex: 5782 entries, 0 to 5781\n",
      "Data columns (total 6 columns):\n",
      " #   Column             Non-Null Count  Dtype \n",
      "---  ------             --------------  ----- \n",
      " 0   id                 5782 non-null   int64 \n",
      " 1   release_date       5782 non-null   object\n",
      " 2   movie              5782 non-null   object\n",
      " 3   production_budget  5782 non-null   object\n",
      " 4   domestic_gross     5782 non-null   object\n",
      " 5   worldwide_gross    5782 non-null   object\n",
      "dtypes: int64(1), object(5)\n",
      "memory usage: 271.2+ KB\n"
     ]
    }
   ],
   "source": [
    "tn_df.info()"
   ]
  },
  {
   "cell_type": "markdown",
   "metadata": {},
   "source": [
    "The dataset has no null values and includes columns for production_budget, domestic_gross and worldwide_gross however, they are all strings. First lets confirm that all numbers are dealing in the same currency ('$')"
   ]
  },
  {
   "cell_type": "code",
   "execution_count": 7,
   "metadata": {},
   "outputs": [
    {
     "name": "stdout",
     "output_type": "stream",
     "text": [
      "Is the production budget in dollars for all records?:  True\n",
      "Is the domestic gross in dollars for all records?:  True\n",
      "Is the worldwide gross in dollars for all records?:  True\n"
     ]
    }
   ],
   "source": [
    "print(\"Is the production budget in dollars for all records?: \",tn_df['worldwide_gross'].str.startswith('$').sum() == len(tn_df))\n",
    "print(\"Is the domestic gross in dollars for all records?: \",tn_df['domestic_gross'].str.startswith('$').sum() == len(tn_df))\n",
    "print(\"Is the worldwide gross in dollars for all records?: \",tn_df['worldwide_gross'].str.startswith('$').sum() == len(tn_df))"
   ]
  },
  {
   "cell_type": "markdown",
   "metadata": {},
   "source": [
    "It looks all the business related data is in dollars. We can safely convert all the numbers without having to do any currency conversions. To ensure we don't lose track, a currency column is created to include the \"$\" symbol and all numbers are then proceeded to be converted to numbers"
   ]
  },
  {
   "cell_type": "code",
   "execution_count": 8,
   "metadata": {},
   "outputs": [],
   "source": [
    "#Converting production buget, domestic gross, worldwide gross to numbers, Add currency unit column as a reminder \n",
    "#numbers are in $\n",
    "tn_df['currency'] = '$'\n",
    "tn_df['production_budget'] = tn_df['production_budget'].str.replace(',','').str.replace('$','').astype(int)\n",
    "tn_df['domestic_gross'] = tn_df['domestic_gross'].str.replace(',','').str.replace('$','').astype(int)\n",
    "tn_df['worldwide_gross'] = tn_df['worldwide_gross'].str.replace(',','').str.replace('$','').astype('int64')"
   ]
  },
  {
   "cell_type": "markdown",
   "metadata": {},
   "source": [
    "Using these we can calculate the net revenue a movie generated"
   ]
  },
  {
   "cell_type": "code",
   "execution_count": 9,
   "metadata": {},
   "outputs": [],
   "source": [
    "#Adding net revenue column and a foreign gross column\n",
    "tn_df['foreign_gross'] = tn_df['worldwide_gross'] - tn_df['domestic_gross']\n",
    "tn_df['net_revenue'] = tn_df['worldwide_gross'] - tn_df['production_budget']"
   ]
  },
  {
   "cell_type": "markdown",
   "metadata": {},
   "source": [
    "Converting release_date to date time and appending month and year columns"
   ]
  },
  {
   "cell_type": "code",
   "execution_count": 10,
   "metadata": {},
   "outputs": [],
   "source": [
    "tn_df['release_date'] = pd.to_datetime(tn_df['release_date'])\n",
    "tn_df['release_year'] = tn_df['release_date'].dt.year\n",
    "tn_df['release_month'] = tn_df['release_date'].dt.month"
   ]
  },
  {
   "cell_type": "markdown",
   "metadata": {},
   "source": [
    "Checking the design of the new dataframe"
   ]
  },
  {
   "cell_type": "code",
   "execution_count": 11,
   "metadata": {},
   "outputs": [
    {
     "data": {
      "text/html": [
       "<div>\n",
       "<style scoped>\n",
       "    .dataframe tbody tr th:only-of-type {\n",
       "        vertical-align: middle;\n",
       "    }\n",
       "\n",
       "    .dataframe tbody tr th {\n",
       "        vertical-align: top;\n",
       "    }\n",
       "\n",
       "    .dataframe thead th {\n",
       "        text-align: right;\n",
       "    }\n",
       "</style>\n",
       "<table border=\"1\" class=\"dataframe\">\n",
       "  <thead>\n",
       "    <tr style=\"text-align: right;\">\n",
       "      <th></th>\n",
       "      <th>id</th>\n",
       "      <th>release_date</th>\n",
       "      <th>movie</th>\n",
       "      <th>production_budget</th>\n",
       "      <th>domestic_gross</th>\n",
       "      <th>worldwide_gross</th>\n",
       "      <th>currency</th>\n",
       "      <th>foreign_gross</th>\n",
       "      <th>net_revenue</th>\n",
       "      <th>release_year</th>\n",
       "      <th>release_month</th>\n",
       "    </tr>\n",
       "  </thead>\n",
       "  <tbody>\n",
       "    <tr>\n",
       "      <th>0</th>\n",
       "      <td>1</td>\n",
       "      <td>2009-12-18</td>\n",
       "      <td>Avatar</td>\n",
       "      <td>425000000</td>\n",
       "      <td>760507625</td>\n",
       "      <td>2776345279</td>\n",
       "      <td>$</td>\n",
       "      <td>2015837654</td>\n",
       "      <td>2351345279</td>\n",
       "      <td>2009</td>\n",
       "      <td>12</td>\n",
       "    </tr>\n",
       "    <tr>\n",
       "      <th>1</th>\n",
       "      <td>2</td>\n",
       "      <td>2011-05-20</td>\n",
       "      <td>Pirates of the Caribbean: On Stranger Tides</td>\n",
       "      <td>410600000</td>\n",
       "      <td>241063875</td>\n",
       "      <td>1045663875</td>\n",
       "      <td>$</td>\n",
       "      <td>804600000</td>\n",
       "      <td>635063875</td>\n",
       "      <td>2011</td>\n",
       "      <td>5</td>\n",
       "    </tr>\n",
       "    <tr>\n",
       "      <th>2</th>\n",
       "      <td>3</td>\n",
       "      <td>2019-06-07</td>\n",
       "      <td>Dark Phoenix</td>\n",
       "      <td>350000000</td>\n",
       "      <td>42762350</td>\n",
       "      <td>149762350</td>\n",
       "      <td>$</td>\n",
       "      <td>107000000</td>\n",
       "      <td>-200237650</td>\n",
       "      <td>2019</td>\n",
       "      <td>6</td>\n",
       "    </tr>\n",
       "    <tr>\n",
       "      <th>3</th>\n",
       "      <td>4</td>\n",
       "      <td>2015-05-01</td>\n",
       "      <td>Avengers: Age of Ultron</td>\n",
       "      <td>330600000</td>\n",
       "      <td>459005868</td>\n",
       "      <td>1403013963</td>\n",
       "      <td>$</td>\n",
       "      <td>944008095</td>\n",
       "      <td>1072413963</td>\n",
       "      <td>2015</td>\n",
       "      <td>5</td>\n",
       "    </tr>\n",
       "    <tr>\n",
       "      <th>4</th>\n",
       "      <td>5</td>\n",
       "      <td>2017-12-15</td>\n",
       "      <td>Star Wars Ep. VIII: The Last Jedi</td>\n",
       "      <td>317000000</td>\n",
       "      <td>620181382</td>\n",
       "      <td>1316721747</td>\n",
       "      <td>$</td>\n",
       "      <td>696540365</td>\n",
       "      <td>999721747</td>\n",
       "      <td>2017</td>\n",
       "      <td>12</td>\n",
       "    </tr>\n",
       "  </tbody>\n",
       "</table>\n",
       "</div>"
      ],
      "text/plain": [
       "   id release_date                                        movie  \\\n",
       "0   1   2009-12-18                                       Avatar   \n",
       "1   2   2011-05-20  Pirates of the Caribbean: On Stranger Tides   \n",
       "2   3   2019-06-07                                 Dark Phoenix   \n",
       "3   4   2015-05-01                      Avengers: Age of Ultron   \n",
       "4   5   2017-12-15            Star Wars Ep. VIII: The Last Jedi   \n",
       "\n",
       "   production_budget  domestic_gross  worldwide_gross currency  foreign_gross  \\\n",
       "0          425000000       760507625       2776345279        $     2015837654   \n",
       "1          410600000       241063875       1045663875        $      804600000   \n",
       "2          350000000        42762350        149762350        $      107000000   \n",
       "3          330600000       459005868       1403013963        $      944008095   \n",
       "4          317000000       620181382       1316721747        $      696540365   \n",
       "\n",
       "   net_revenue  release_year  release_month  \n",
       "0   2351345279          2009             12  \n",
       "1    635063875          2011              5  \n",
       "2   -200237650          2019              6  \n",
       "3   1072413963          2015              5  \n",
       "4    999721747          2017             12  "
      ]
     },
     "execution_count": 11,
     "metadata": {},
     "output_type": "execute_result"
    }
   ],
   "source": [
    "tn_df.head()"
   ]
  },
  {
   "cell_type": "markdown",
   "metadata": {},
   "source": [
    "## Why should Microsoft get into movies?"
   ]
  },
  {
   "cell_type": "markdown",
   "metadata": {},
   "source": [
    "Aside from owning IPs that lend itself to making good visual content, we can ascertain whether there is a business reason to get into movie making.Lets look at gross and net revenue performance of the box office by the year for the last 20 years"
   ]
  },
  {
   "cell_type": "code",
   "execution_count": 12,
   "metadata": {},
   "outputs": [],
   "source": [
    "# Filtering the dataframe to remove entries with 0 for revenue and gross\n",
    "filtered_df = tn_df[(tn_df['worldwide_gross'] != 0) & (tn_df['net_revenue'] != 0)]\n",
    "\n",
    "# Further filtering to restrict the release years\n",
    "years_filtered_df = filtered_df[(filtered_df['release_year'] >= 2000) & (filtered_df['release_year'] <= 2018)]\n",
    "\n",
    "# Grouping by 'release_year' and calculating the mean for 'worldwide_gross' and 'net_revenue'\n",
    "trend_viz_df = years_filtered_df.groupby('release_year').agg({\n",
    "    'worldwide_gross': 'mean',\n",
    "    'net_revenue': 'mean'\n",
    "}).reset_index()\n"
   ]
  },
  {
   "cell_type": "code",
   "execution_count": 12,
   "metadata": {},
   "outputs": [
    {
     "data": {
      "image/png": "[encoded data removed]",
      "text/plain": [
       "<Figure size 1000x800 with 1 Axes>"
      ]
     },
     "metadata": {},
     "output_type": "display_data"
    }
   ],
   "source": [
    "fig, ax = plt.subplots(figsize=(10,8))\n",
    "\n",
    "ax.plot(list(trend_viz_df['release_year']), list(trend_viz_df['worldwide_gross']),'teal')\n",
    "ax.plot(list(trend_viz_df['release_year']), list(trend_viz_df['net_revenue']),'limegreen')\n",
    "\n",
    "ax.set_xlabel('Time')\n",
    "ax.set_xticks(np.arange(2000,2020,2))\n",
    "ax.get_yaxis().set_major_formatter(ticker.StrMethodFormatter('{x:,}$'))\n",
    "\n",
    "ax.set_title('Avg annual performance of the movies at the box office (post 2000)')\n",
    "ax.legend(['Worldwide Gross','Net Revenue'])\n",
    "ax.grid(c='k',ls= '-.',alpha = 0.2);\n",
    "\n",
    "# fig.savefig('./images/AnnualMeanPerformance.jpg',\n",
    "#             transparent = False);"
   ]
  },
  {
   "cell_type": "markdown",
   "metadata": {},
   "source": [
    "## Best Release time of the year"
   ]
  },
  {
   "cell_type": "markdown",
   "metadata": {},
   "source": [
    "Limiting data to post Insert cut off year or essentially last 10 years worth of data. This will help us to emphasize more recent trends. For the purpose of visualization we will be using world wide earnings. Dropping records with no world wide earnings data"
   ]
  },
  {
   "cell_type": "code",
   "execution_count": 13,
   "metadata": {},
   "outputs": [],
   "source": [
    "# Paring down the dataset by a cutoff year to ascertain more recent trends focusing on worldwide revenue\n",
    "reduced_df = tn_df[tn_df['release_year']>=2012]\n",
    "reduced_df_worldwide = reduced_df.drop(reduced_df[reduced_df['worldwide_gross']==0].index)"
   ]
  },
  {
   "cell_type": "markdown",
   "metadata": {},
   "source": [
    "Using the revenue data we can try to ascertain the best release windows for movies. We can see major revenue being generated during the summer season (May, June, July) and again during holiday season"
   ]
  },
  {
   "cell_type": "code",
   "execution_count": 14,
   "metadata": {},
   "outputs": [],
   "source": [
    "df = reduced_df_worldwide.groupby('release_month')[['worldwide_gross', 'net_revenue']].mean()\n"
   ]
  },
  {
   "cell_type": "code",
   "execution_count": 15,
   "metadata": {},
   "outputs": [
    {
     "data": {
      "image/png": "[encoded data removed]",
      "text/plain": [
       "<Figure size 1500x600 with 1 Axes>"
      ]
     },
     "metadata": {},
     "output_type": "display_data"
    }
   ],
   "source": [
    "fig, ax = plt.subplots(figsize=(15, 6))\n",
    "\n",
    "ax.bar(df.index, df['net_revenue'] / 1000000, color='maroon')\n",
    "ax.set_title(f'Avg Box Office Net Revenue by month of Release (post 2012)')\n",
    "ax.set_xlabel('Month of Release')\n",
    "ax.set_ylabel('Millions of $')\n",
    "ax.grid(c='k', ls='-.', alpha=0.2)\n",
    "\n",
    "plt.xticks(ticks=[1, 2, 3, 4, 5, 6, 7, 8, 9, 10, 11, 12],\n",
    "           labels=['Jan', 'Feb', 'Mar', 'Apr', 'May', 'Jun', 'Jul', 'Aug', 'Sep', 'Oct', 'Nov', 'Dec'])\n",
    "\n",
    "ax.get_yaxis().set_major_formatter(ticker.StrMethodFormatter('{x:g}'))\n",
    "plt.show()\n"
   ]
  },
  {
   "cell_type": "markdown",
   "metadata": {},
   "source": [
    "# RottenTomatoes dataset"
   ]
  },
  {
   "cell_type": "code",
   "execution_count": 17,
   "metadata": {},
   "outputs": [
    {
     "name": "stdout",
     "output_type": "stream",
     "text": [
      "<class 'pandas.core.frame.DataFrame'>\n",
      "RangeIndex: 54432 entries, 0 to 54431\n",
      "Data columns (total 7 columns):\n",
      " #   Column      Non-Null Count  Dtype \n",
      "---  ------      --------------  ----- \n",
      " 0   id          54432 non-null  int64 \n",
      " 1   rating      40915 non-null  object\n",
      " 2   fresh       54432 non-null  object\n",
      " 3   critic      51710 non-null  object\n",
      " 4   top_critic  54432 non-null  int64 \n",
      " 5   publisher   54432 non-null  object\n",
      " 6   fresh_flag  54432 non-null  bool  \n",
      "dtypes: bool(1), int64(2), object(4)\n",
      "memory usage: 2.5+ MB\n"
     ]
    }
   ],
   "source": [
    "#Load review info from Rotten Tomatoes\n",
    "rt_review_df = pd.read_csv('rt.reviews.tsv',delimiter='\\t',encoding = 'unicode_escape')\n",
    "rt_review_df['publisher'].fillna('N/A',inplace = True)\n",
    "\n",
    "# Don't need written review. Date in this instance is review date and irrelevant\n",
    "rt_review_df.drop(columns = ['review','date'], inplace = True)\n",
    "rt_review_df['fresh_flag'] = (rt_review_df['fresh']=='fresh') #creates a boolean column for 'fresh'/'rotten'\n",
    "\n",
    "rt_review_df.info()"
   ]
  },
  {
   "cell_type": "code",
   "execution_count": 18,
   "metadata": {},
   "outputs": [
    {
     "data": {
      "text/html": [
       "<div>\n",
       "<style scoped>\n",
       "    .dataframe tbody tr th:only-of-type {\n",
       "        vertical-align: middle;\n",
       "    }\n",
       "\n",
       "    .dataframe tbody tr th {\n",
       "        vertical-align: top;\n",
       "    }\n",
       "\n",
       "    .dataframe thead th {\n",
       "        text-align: right;\n",
       "    }\n",
       "</style>\n",
       "<table border=\"1\" class=\"dataframe\">\n",
       "  <thead>\n",
       "    <tr style=\"text-align: right;\">\n",
       "      <th></th>\n",
       "      <th>id</th>\n",
       "      <th>rating</th>\n",
       "      <th>fresh</th>\n",
       "      <th>critic</th>\n",
       "      <th>top_critic</th>\n",
       "      <th>publisher</th>\n",
       "      <th>fresh_flag</th>\n",
       "    </tr>\n",
       "  </thead>\n",
       "  <tbody>\n",
       "    <tr>\n",
       "      <th>0</th>\n",
       "      <td>3</td>\n",
       "      <td>3/5</td>\n",
       "      <td>fresh</td>\n",
       "      <td>PJ Nabarro</td>\n",
       "      <td>0</td>\n",
       "      <td>Patrick Nabarro</td>\n",
       "      <td>True</td>\n",
       "    </tr>\n",
       "    <tr>\n",
       "      <th>1</th>\n",
       "      <td>3</td>\n",
       "      <td>NaN</td>\n",
       "      <td>rotten</td>\n",
       "      <td>Annalee Newitz</td>\n",
       "      <td>0</td>\n",
       "      <td>io9.com</td>\n",
       "      <td>False</td>\n",
       "    </tr>\n",
       "    <tr>\n",
       "      <th>2</th>\n",
       "      <td>3</td>\n",
       "      <td>NaN</td>\n",
       "      <td>fresh</td>\n",
       "      <td>Sean Axmaker</td>\n",
       "      <td>0</td>\n",
       "      <td>Stream on Demand</td>\n",
       "      <td>True</td>\n",
       "    </tr>\n",
       "    <tr>\n",
       "      <th>3</th>\n",
       "      <td>3</td>\n",
       "      <td>NaN</td>\n",
       "      <td>fresh</td>\n",
       "      <td>Daniel Kasman</td>\n",
       "      <td>0</td>\n",
       "      <td>MUBI</td>\n",
       "      <td>True</td>\n",
       "    </tr>\n",
       "    <tr>\n",
       "      <th>4</th>\n",
       "      <td>3</td>\n",
       "      <td>NaN</td>\n",
       "      <td>fresh</td>\n",
       "      <td>NaN</td>\n",
       "      <td>0</td>\n",
       "      <td>Cinema Scope</td>\n",
       "      <td>True</td>\n",
       "    </tr>\n",
       "  </tbody>\n",
       "</table>\n",
       "</div>"
      ],
      "text/plain": [
       "   id rating   fresh          critic  top_critic         publisher  fresh_flag\n",
       "0   3    3/5   fresh      PJ Nabarro           0   Patrick Nabarro        True\n",
       "1   3    NaN  rotten  Annalee Newitz           0           io9.com       False\n",
       "2   3    NaN   fresh    Sean Axmaker           0  Stream on Demand        True\n",
       "3   3    NaN   fresh   Daniel Kasman           0              MUBI        True\n",
       "4   3    NaN   fresh             NaN           0      Cinema Scope        True"
      ]
     },
     "execution_count": 18,
     "metadata": {},
     "output_type": "execute_result"
    }
   ],
   "source": [
    "rt_review_df.head()"
   ]
  },
  {
   "cell_type": "code",
   "execution_count": 18,
   "metadata": {},
   "outputs": [
    {
     "data": {
      "text/plain": [
       "(54432, 7)"
      ]
     },
     "execution_count": 18,
     "metadata": {},
     "output_type": "execute_result"
    }
   ],
   "source": [
    "rt_review_df.shape"
   ]
  },
  {
   "cell_type": "markdown",
   "metadata": {},
   "source": [
    "ID in this table is a unique movie identifier across rotten tomato datasets.\n",
    "A movie can have multiple reviews. Therefore, we can get the 'Fresh' rating across all review and across all 'top critics' for every ID"
   ]
  },
  {
   "cell_type": "code",
   "execution_count": 19,
   "metadata": {},
   "outputs": [],
   "source": [
    "#Paring the data down to only the 'top critics'\n",
    "#This returns a series of tomato ratings as rated by top critics. Index by id\n",
    "top_critics = rt_review_df[rt_review_df['top_critic'] == 1]\n",
    "grouped = top_critics.groupby('id')\n",
    "mean_values = grouped['fresh_flag'].mean()\n"
   ]
  },
  {
   "cell_type": "code",
   "execution_count": 20,
   "metadata": {},
   "outputs": [],
   "source": [
    "#This returns a series of tomato ratings as rated by all critics. Index by id\n",
    "all_reviews_sr = rt_review_df.groupby('id').agg({'fresh_flag': 'mean'})['fresh_flag']\n"
   ]
  },
  {
   "cell_type": "code",
   "execution_count": 21,
   "metadata": {},
   "outputs": [],
   "source": [
    "#Load movie info from Rotten Tomatoes\n",
    "rt_movie_df = pd.read_csv('rt.movie_info.tsv',delimiter = '\\t')\n",
    "\n",
    "# NOTE: No movie title provided in dataset. And unique identifier 'id' cannot be matched\n",
    "# to another db.\n",
    "\n",
    "#Create list of genres for each record\n",
    "rt_movie_df['genre list'] = rt_movie_df['genre'].str.split('|')\n",
    "\n",
    "# Convert runtime to numerical data\n",
    "rt_movie_df['runtime_in_min'] = rt_movie_df['runtime'].map(lambda x: int(x[:-8]) if x is not np.nan else np.nan)\n",
    "\n",
    "# Converting theater date to datetime object and creating year column\n",
    "rt_movie_df['theater_date'] = pd.to_datetime(rt_movie_df['theater_date'])\n",
    "rt_movie_df['year'] = rt_movie_df['theater_date'].dt.year\n",
    "\n",
    "#'currency' and 'box_office' columns are about 4/5 empty. Dropping these columns. \n",
    "# Other datasets are morecomplete and this data can be gathered from there instead \n",
    "# Dropping synopsis and studio as well\n",
    "rt_movie_df.drop(columns = ['synopsis','currency','box_office','studio','runtime'],inplace=True)"
   ]
  },
  {
   "cell_type": "code",
   "execution_count": 22,
   "metadata": {},
   "outputs": [
    {
     "name": "stdout",
     "output_type": "stream",
     "text": [
      "<class 'pandas.core.frame.DataFrame'>\n",
      "RangeIndex: 1560 entries, 0 to 1559\n",
      "Data columns (total 10 columns):\n",
      " #   Column          Non-Null Count  Dtype         \n",
      "---  ------          --------------  -----         \n",
      " 0   id              1560 non-null   int64         \n",
      " 1   rating          1557 non-null   object        \n",
      " 2   genre           1552 non-null   object        \n",
      " 3   director        1361 non-null   object        \n",
      " 4   writer          1111 non-null   object        \n",
      " 5   theater_date    1201 non-null   datetime64[ns]\n",
      " 6   dvd_date        1201 non-null   object        \n",
      " 7   genre list      1552 non-null   object        \n",
      " 8   runtime_in_min  1530 non-null   float64       \n",
      " 9   year            1201 non-null   float64       \n",
      "dtypes: datetime64[ns](1), float64(2), int64(1), object(6)\n",
      "memory usage: 122.0+ KB\n"
     ]
    }
   ],
   "source": [
    "rt_movie_df.info()"
   ]
  },
  {
   "cell_type": "markdown",
   "metadata": {},
   "source": [
    "Having calculated the 'Fresh' meter for each movie already we can create a column for each and add it to this master table"
   ]
  },
  {
   "cell_type": "code",
   "execution_count": 22,
   "metadata": {},
   "outputs": [],
   "source": [
    "rt_movie_df['overall_tomato_rating'] = rt_movie_df['id'].map(lambda x: all_reviews_sr[x] if x in all_reviews_sr else np.nan)\n",
    "rt_movie_df['top_critic_tomato_rating'] = rt_movie_df['id'].map(lambda x: top_critics[x] if x in top_critics else np.nan)"
   ]
  },
  {
   "cell_type": "markdown",
   "metadata": {},
   "source": [
    "## Genre Performance"
   ]
  },
  {
   "cell_type": "markdown",
   "metadata": {},
   "source": [
    "Drop every record with a na in genre. Create a boolean matrix for all different genres. Drop unneccessary columns"
   ]
  },
  {
   "cell_type": "code",
   "execution_count": 30,
   "metadata": {},
   "outputs": [],
   "source": [
    "unique_genre_list = []\n",
    "for genres in rt_movie_df['genre list'].dropna().tolist():\n",
    "    for genre in genres:\n",
    "        unique_genre_list.append(genre)\n",
    "unique_genre_list =list(set(unique_genre_list))"
   ]
  },
  {
   "cell_type": "code",
   "execution_count": 31,
   "metadata": {},
   "outputs": [],
   "source": [
    "rt_movie_genre_df = rt_movie_df[rt_movie_df['genre list'].notna()]\n",
    "\n",
    "\n",
    "for genre in unique_genre_list:\n",
    "    rt_movie_genre_df[genre] = rt_movie_genre_df['genre list'].map(lambda x: True if genre in x else False)"
   ]
  },
  {
   "cell_type": "code",
   "execution_count": 34,
   "metadata": {},
   "outputs": [
    {
     "name": "stdout",
     "output_type": "stream",
     "text": [
      "<class 'pandas.core.frame.DataFrame'>\n",
      "Index: 127 entries, 16 to 1537\n",
      "Data columns (total 24 columns):\n",
      " #   Column                       Non-Null Count  Dtype         \n",
      "---  ------                       --------------  -----         \n",
      " 0   director                     117 non-null    object        \n",
      " 1   writer                       111 non-null    object        \n",
      " 2   theater_date                 127 non-null    datetime64[ns]\n",
      " 3   Musical and Performing Arts  127 non-null    bool          \n",
      " 4   Sports and Fitness           127 non-null    bool          \n",
      " 5   Action and Adventure         127 non-null    bool          \n",
      " 6   Horror                       127 non-null    bool          \n",
      " 7   Kids and Family              127 non-null    bool          \n",
      " 8   Classics                     127 non-null    bool          \n",
      " 9   Animation                    127 non-null    bool          \n",
      " 10  Anime and Manga              127 non-null    bool          \n",
      " 11  Cult Movies                  127 non-null    bool          \n",
      " 12  Art House and International  127 non-null    bool          \n",
      " 13  Television                   127 non-null    bool          \n",
      " 14  Science Fiction and Fantasy  127 non-null    bool          \n",
      " 15  Western                      127 non-null    bool          \n",
      " 16  Mystery and Suspense         127 non-null    bool          \n",
      " 17  Comedy                       127 non-null    bool          \n",
      " 18  Special Interest             127 non-null    bool          \n",
      " 19  Drama                        127 non-null    bool          \n",
      " 20  Documentary                  127 non-null    bool          \n",
      " 21  Gay and Lesbian              127 non-null    bool          \n",
      " 22  Romance                      127 non-null    bool          \n",
      " 23  Faith and Spirituality       127 non-null    bool          \n",
      "dtypes: bool(21), datetime64[ns](1), object(2)\n",
      "memory usage: 6.6+ KB\n",
      "None\n"
     ]
    }
   ],
   "source": [
    "print(rt_movie_genre_temp.info())\n"
   ]
  },
  {
   "cell_type": "code",
   "execution_count": 36,
   "metadata": {},
   "outputs": [
    {
     "name": "stdout",
     "output_type": "stream",
     "text": [
      "['Drama', 'Comedy', 'Mystery and Suspense', 'Action and Adventure', 'Romance', 'Science Fiction and Fantasy', 'Art House and International', 'Horror', 'Kids and Family', 'Animation', 'Musical and Performing Arts', 'Western', 'Documentary', 'Special Interest', 'Faith and Spirituality']\n"
     ]
    }
   ],
   "source": [
    "# Drop the non-boolean columns\n",
    "rt_movie_genre_temp_cleaned = rt_movie_genre_temp.drop(columns=['director', 'writer', 'theater_date'])\n",
    "\n",
    "# Calculate the sum for each genre column\n",
    "genre_sums = rt_movie_genre_temp_cleaned.sum()\n",
    "\n",
    "# Sort the genres in descending order based on the sum\n",
    "sorted_genres = genre_sums.sort_values(ascending=False)\n",
    "\n",
    "# Extract the top 15 genres\n",
    "top_15_genres = list(sorted_genres[:15].index)\n",
    "\n",
    "print(top_15_genres)\n"
   ]
  },
  {
   "cell_type": "code",
   "execution_count": 41,
   "metadata": {},
   "outputs": [
    {
     "name": "stdout",
     "output_type": "stream",
     "text": [
      "Drama                          74\n",
      "Comedy                         39\n",
      "Mystery and Suspense           24\n",
      "Action and Adventure           18\n",
      "Romance                        16\n",
      "Science Fiction and Fantasy    12\n",
      "Art House and International    11\n",
      "Horror                          8\n",
      "Kids and Family                 7\n",
      "Animation                       5\n",
      "Musical and Performing Arts     4\n",
      "Western                         3\n",
      "Documentary                     2\n",
      "Special Interest                2\n",
      "Faith and Spirituality          1\n",
      "dtype: int64\n"
     ]
    }
   ],
   "source": [
    "# Drop the non-boolean columns\n",
    "rt_movie_genre_temp_cleaned = rt_movie_genre_temp.drop(columns=['director', 'writer', 'theater_date'])\n",
    "\n",
    "# Calculate the sum for each genre column\n",
    "genre_sums = rt_movie_genre_temp_cleaned.sum()\n",
    "\n",
    "# Sort the genres in descending order based on the sum\n",
    "sorted_genres_descending = genre_sums.sort_values(ascending=False)\n",
    "\n",
    "# Extract the counts and names of the top 15 genres\n",
    "top_15_genre_counts_descending = sorted_genres_descending.head(15)\n",
    "\n",
    "# Print the results\n",
    "print(top_15_genre_counts_descending)\n"
   ]
  },
  {
   "cell_type": "code",
   "execution_count": 43,
   "metadata": {},
   "outputs": [],
   "source": [
    "viz_data = []\n",
    "\n",
    "for genre in top_15_genres:\n",
    "    # Filter for movies that belong to the current genre and were released after 2012\n",
    "    genre_df = rt_movie_genre_df[(rt_movie_genre_df[genre] == True) & (rt_movie_genre_df['year'] > 2012)]\n",
    "    \n",
    "    # Calculate the mean ratings for this subset of movies\n",
    "    overall_rating_mean = genre_df['overall_tomato_rating'].mean()\n",
    "    top_critic_rating_mean = genre_df['top_critic_tomato_rating'].mean()\n",
    "\n",
    "    # Append the results to viz_data\n",
    "    viz_data.append([genre, overall_rating_mean, top_critic_rating_mean])\n",
    "\n",
    "# Sort the data by the overall tomato rating\n",
    "viz_data.sort(key=lambda x: x[1], reverse=True)\n"
   ]
  },
  {
   "cell_type": "code",
   "execution_count": 46,
   "metadata": {},
   "outputs": [
    {
     "data": {
      "image/png": "[encoded data removed]",
      "text/plain": [
       "<Figure size 1000x1000 with 1 Axes>"
      ]
     },
     "metadata": {},
     "output_type": "display_data"
    }
   ],
   "source": [
    "# Visualization\n",
    "viz_labels = [v[0] for v in viz_data]\n",
    "viz_all_ratings = [v[1]*100 for v in viz_data]\n",
    "viz_top_ratings = [v[2]*100 for v in viz_data]\n",
    "\n",
    "y = np.arange(len(viz_labels))\n",
    "h = 0.6\n",
    "\n",
    "fig, ax = plt.subplots(figsize=(10,10))\n",
    "\n",
    "\n",
    "ax.grid(c='k',ls= '-.',alpha = 0.2);\n",
    "\n",
    "ax.set_title(f'Critical Reception of various genres (post 2012) per Rotten Tomato')\n",
    "ax.set_ylabel('Genre')\n",
    "ax.set_xlabel('Avg % Fresh')\n",
    "\n",
    "ax.barh(y-h/3, viz_all_ratings, h/1.5,color='maroon')\n",
    "ax.barh(y+h/3, viz_top_ratings, h/1.5,color='blue')\n",
    "\n",
    "ax.set_xticks(np.arange(0, 90, step=5))\n",
    "\n",
    "ax.set_yticks(y)  \n",
    "ax.set_yticklabels(labels=viz_labels)\n",
    "ax.legend(['Overall Tomato Rating', 'Top Critic Tomato Rating'])\n",
    "ax.invert_yaxis()\n",
    "\n",
    "# fig.savefig('./images/PopularGenres_Critics.jpg',\n",
    "#             transparent = False,bbox_inches=\"tight\");"
   ]
  },
  {
   "cell_type": "markdown",
   "metadata": {},
   "source": [
    "See the caveats in the documentation: https://pandas.pydata.org/pandas-docs/stable/user_guide/indexing.html#returning-a-view-versus-a-copy"
   ]
  },
  {
   "cell_type": "markdown",
   "metadata": {},
   "source": [
    "## Runtime Performance\n",
    "\n",
    "Finding a corelation  between Runtime Performance and critical performance"
   ]
  },
  {
   "cell_type": "code",
   "execution_count": 60,
   "metadata": {},
   "outputs": [],
   "source": [
    "# Filter movies based on a specified runtime range\n",
    "rt_runtime_df = rt_movie_df.dropna(subset=['runtime_in_min', 'overall_tomato_rating', 'top_critic_tomato_rating'])\n",
    "filtered_rt_runtime_df = rt_runtime_df[(rt_runtime_df['runtime_in_min'] > 5) & (rt_runtime_df['runtime_in_min'] < 300)]\n"
   ]
  },
  {
   "cell_type": "code",
   "execution_count": 61,
   "metadata": {},
   "outputs": [
    {
     "name": "stdout",
     "output_type": "stream",
     "text": [
      "No data left to plot after filtering.\n"
     ]
    }
   ],
   "source": [
    "\n",
    "if len(filtered_rt_runtime_df) > 0:\n",
    "    fig, ax = plt.subplots(1, 2, figsize=(20, 5))\n",
    "    ax[0].scatter(x=filtered_rt_runtime_df['runtime_in_min'], y=filtered_rt_runtime_df['overall_tomato_rating'], alpha=0.4)\n",
    "    ax[1].scatter(x=filtered_rt_runtime_df['runtime_in_min'], y=filtered_rt_runtime_df['top_critic_tomato_rating'], alpha=0.4)\n",
    "    \n",
    "    ax[0].set_title(\"Overall Tomato Rating vs. Runtime\")\n",
    "    ax[1].set_title(\"Top Critic Tomato Rating vs. Runtime\")\n",
    "    \n",
    "    ax[0].set_xlabel(\"Runtime in Minutes\")\n",
    "    ax[1].set_xlabel(\"Runtime in Minutes\")\n",
    "    ax[0].set_ylabel(\"Overall Tomato Rating\")\n",
    "    ax[1].set_ylabel(\"Top Critic Tomato Rating\")\n",
    "    plt.show()\n",
    "else:\n",
    "    print(\"No data left to plot after filtering.\")\n"
   ]
  },
  {
   "cell_type": "code",
   "execution_count": 62,
   "metadata": {},
   "outputs": [
    {
     "name": "stdout",
     "output_type": "stream",
     "text": [
      "count    1530.000000\n",
      "mean      103.967974\n",
      "std        24.642392\n",
      "min         5.000000\n",
      "25%        91.000000\n",
      "50%       100.000000\n",
      "75%       114.000000\n",
      "max       358.000000\n",
      "Name: runtime_in_min, dtype: float64\n"
     ]
    }
   ],
   "source": [
    "print(rt_movie_df['runtime_in_min'].describe())\n"
   ]
  },
  {
   "cell_type": "code",
   "execution_count": 63,
   "metadata": {},
   "outputs": [
    {
     "data": {
      "image/png": "[encoded data removed]",
      "text/plain": [
       "<Figure size 640x480 with 1 Axes>"
      ]
     },
     "metadata": {},
     "output_type": "display_data"
    }
   ],
   "source": [
    "rt_movie_df['runtime_in_min'].hist(bins=30)\n",
    "plt.title(\"Distribution of Movie Runtimes\")\n",
    "plt.xlabel(\"Runtime in Minutes\")\n",
    "plt.ylabel(\"Number of Movies\")\n",
    "plt.show()\n"
   ]
  },
  {
   "cell_type": "code",
   "execution_count": 55,
   "metadata": {},
   "outputs": [],
   "source": [
    "rt_runtime_df = rt_runtime_df[\n",
    "    (rt_runtime_df['runtime_in_min'] > (runtime_q1 - 1.5 * runtime_iqr)) &\n",
    "    (rt_runtime_df['runtime_in_min'] < (runtime_q3 + 1.5 * runtime_iqr))\n",
    "]\n"
   ]
  },
  {
   "cell_type": "code",
   "execution_count": 58,
   "metadata": {},
   "outputs": [
    {
     "name": "stdout",
     "output_type": "stream",
     "text": [
      "count    1530.000000\n",
      "mean      103.967974\n",
      "std        24.642392\n",
      "min         5.000000\n",
      "25%        91.000000\n",
      "50%       100.000000\n",
      "75%       114.000000\n",
      "max       358.000000\n",
      "Name: runtime_in_min, dtype: float64\n"
     ]
    }
   ],
   "source": [
    "print(rt_movie_df['runtime_in_min'].describe())\n"
   ]
  },
  {
   "cell_type": "code",
   "execution_count": 59,
   "metadata": {},
   "outputs": [
    {
     "data": {
      "image/png": "[encoded data removed]",
      "text/plain": [
       "<Figure size 640x480 with 1 Axes>"
      ]
     },
     "metadata": {},
     "output_type": "display_data"
    }
   ],
   "source": [
    "plt.hist(rt_movie_df['runtime_in_min'].dropna(), bins=50, edgecolor='k', alpha=0.7)\n",
    "plt.title(\"Distribution of Movie Runtimes\")\n",
    "plt.xlabel(\"Runtime in Minutes\")\n",
    "plt.ylabel(\"Number of Movies\")\n",
    "plt.show()\n"
   ]
  },
  {
   "cell_type": "code",
   "execution_count": 56,
   "metadata": {},
   "outputs": [
    {
     "name": "stdout",
     "output_type": "stream",
     "text": [
      "Number of entries left: 0\n"
     ]
    }
   ],
   "source": [
    "print(\"Number of entries left:\", len(rt_runtime_df))\n"
   ]
  },
  {
   "cell_type": "code",
   "execution_count": 57,
   "metadata": {},
   "outputs": [
    {
     "name": "stdout",
     "output_type": "stream",
     "text": [
      "No data left to plot after filtering.\n"
     ]
    }
   ],
   "source": [
    "if len(rt_runtime_df) > 0:\n",
    "    fig, ax = plt.subplots(1, 2, figsize=(20, 5))\n",
    "    ax[0].scatter(x=rt_runtime_df['runtime_in_min'], y=rt_runtime_df['overall_tomato_rating'], alpha=0.4)\n",
    "    ax[1].scatter(x=rt_runtime_df['runtime_in_min'], y=rt_runtime_df['top_critic_tomato_rating'], alpha=0.4)\n",
    "    ax[0].set_title(\"Overall Tomato Rating vs. Runtime\")\n",
    "    ax[1].set_title(\"Top Critic Tomato Rating vs. Runtime\")\n",
    "    ax[0].set_xlabel(\"Runtime in Minutes\")\n",
    "    ax[1].set_xlabel(\"Runtime in Minutes\")\n",
    "    ax[0].set_ylabel(\"Overall Tomato Rating\")\n",
    "    ax[1].set_ylabel(\"Top Critic Tomato Rating\")\n",
    "    plt.show()\n",
    "else:\n",
    "    print(\"No data left to plot after filtering.\")\n"
   ]
  },
  {
   "cell_type": "code",
   "execution_count": 51,
   "metadata": {},
   "outputs": [],
   "source": [
    "rt_runtime_df = rt_runtime_df[(rt_runtime_df['runtime_in_min']>(runtime_q1 - 1.5*runtime_iqr)) & \n",
    "              (rt_runtime_df['runtime_in_min']<(runtime_q3 + 1.5*runtime_iqr))]"
   ]
  },
  {
   "cell_type": "code",
   "execution_count": 52,
   "metadata": {},
   "outputs": [
    {
     "data": {
      "image/png": "[encoded data removed]",
      "text/plain": [
       "<Figure size 2000x500 with 2 Axes>"
      ]
     },
     "metadata": {},
     "output_type": "display_data"
    }
   ],
   "source": [
    "fig, ax = plt.subplots(1,2,figsize=(20,5))\n",
    "\n",
    "ax[0].scatter(x= rt_runtime_df['runtime_in_min'],y = rt_runtime_df['overall_tomato_rating'], alpha =0.4);\n",
    "ax[1].scatter(x= rt_runtime_df['runtime_in_min'],y = rt_runtime_df['top_critic_tomato_rating'], alpha =0.4);"
   ]
  },
  {
   "cell_type": "markdown",
   "metadata": {},
   "source": [
    "# IMDb Dataset"
   ]
  },
  {
   "cell_type": "markdown",
   "metadata": {},
   "source": [
    "First, we'll need to set up our notebook to be able to process this data."
   ]
  },
  {
   "cell_type": "code",
   "execution_count": null,
   "metadata": {},
   "outputs": [],
   "source": [
    "# Create connection to IMDb DB\n",
    "con = sqlite3.connect('im.db')"
   ]
  },
  {
   "cell_type": "markdown",
   "metadata": {},
   "source": [
    "Let's take a look at what this dataset actually *contains*, i.e. the names of the tables"
   ]
  },
  {
   "cell_type": "code",
   "execution_count": null,
   "metadata": {},
   "outputs": [],
   "source": [
    "pd.read_sql(\"\"\"\n",
    "\n",
    "SELECT *\n",
    "FROM sqlite_master\n",
    "\n",
    "\"\"\",con)"
   ]
  },
  {
   "cell_type": "markdown",
   "metadata": {},
   "source": [
    "Let's take a look at what this dataset actually *contains*, i.e. the names of the tables"
   ]
  },
  {
   "cell_type": "code",
   "execution_count": null,
   "metadata": {},
   "outputs": [],
   "source": [
    "basics_query = \"\"\"SELECT * FROM movie_basics\"\"\"\n",
    "\n",
    "pd.read_sql(basics_query,con).info()"
   ]
  },
  {
   "cell_type": "markdown",
   "metadata": {},
   "source": [
    "146,144 entries - that's a **lot** of movies!\n",
    "\n",
    "We have a few columns with null values: ```original_title```, ```runtime_minutes```, and ```genres```. We'll have to figure out how to deal with those in due time, but first, let's get a closer look at what's actually contained in the table."
   ]
  },
  {
   "cell_type": "code",
   "execution_count": null,
   "metadata": {},
   "outputs": [],
   "source": [
    "pd.read_sql(basics_query,con).head(10)"
   ]
  },
  {
   "cell_type": "markdown",
   "metadata": {},
   "source": [
    "Since most of the movies in the dataset have the same `primary_title` and `original_title`, and because `primary_title` is often an English-translated title, we can probably drop `original_title` when we join these tables.\n",
    "\n",
    "We also have a primary key: `movie_id`.\n",
    "\n",
    "Okay, what about the table `movie_ratings`?"
   ]
  },
  {
   "cell_type": "code",
   "execution_count": null,
   "metadata": {},
   "outputs": [],
   "source": [
    "ratings_query = \"\"\"SELECT * FROM movie_ratings\"\"\"\n",
    "\n",
    "pd.read_sql(ratings_query,con).head(10)"
   ]
  },
  {
   "cell_type": "markdown",
   "metadata": {},
   "source": [
    "That table is easy enough to read, but it only gives us **alphanumeric values** to identify what movie is associated with a given row's `averagerating` and `numvotes`. We will address that when we join the tables.\n",
    "\n",
    "Let's take a more bird's-eye view of the `movie_ratings` table using `.info()`."
   ]
  },
  {
   "cell_type": "code",
   "execution_count": null,
   "metadata": {},
   "outputs": [],
   "source": [
    "pd.read_sql(ratings_query,con).info()"
   ]
  },
  {
   "cell_type": "markdown",
   "metadata": {},
   "source": [
    "No null values in any of the three columns! But `movie_ratings`, with 73,856 rows, has only *half* as many entries as `movie_basics` - that means there are a lot of entries in `movie_basics` without an associated rating.\n",
    "\n",
    "The two tables have `movie_id` in common, so we'll join them on that column.\n",
    "\n",
    "Which column should we investigate first in order to get a sense of what movies (and what kinds of movies) are popular: `averagerating` or `numvotes`?\n",
    "\n",
    "The values in the column `averagerating` provide us an idea of what *scores* IMDb users have assigned a movie (i.e. users' *evaluations* of a movie's quality), but `numvotes` tells us *how many* IMDb users have rated the movie, which likely gives us a better idea of a movie's **reach**. Let's order our data by `numvotes` to start."
   ]
  },
  {
   "cell_type": "code",
   "execution_count": null,
   "metadata": {},
   "outputs": [],
   "source": [
    "# Creating new query: Joining movie_basics and\n",
    "# movie_ratings, ordering by total # of ratings\n",
    "\n",
    "votes_query = \"\"\"\n",
    "    SELECT\n",
    "        -- Importing columns from movie_basics\n",
    "        mb.primary_title AS \"Title\",\n",
    "        mb.start_year AS \"Release Year\",\n",
    "        -- Importing columns from movie_ratings\n",
    "        mr.averagerating AS \"Avg. Rating\",\n",
    "        mr.numvotes AS \"# of Ratings\"\n",
    "    FROM\n",
    "        movie_basics AS mb\n",
    "        JOIN movie_ratings AS mr\n",
    "            ON mb.movie_id = mr.movie_id\n",
    "    WHERE\n",
    "        -- Looking at movies only from 2010-2019 (most recent\n",
    "        -- year in dataset) for last ten years' of data\n",
    "        mb.start_year >= 2010\n",
    "    ORDER BY\n",
    "        mr.numvotes DESC\n",
    "\"\"\"\n",
    "\n",
    "# Creating new dataframe based on votes_query\n",
    "sample_df = pd.read_sql(votes_query,con)"
   ]
  },
  {
   "cell_type": "code",
   "execution_count": null,
   "metadata": {},
   "outputs": [],
   "source": [
    "# Assigning the values from '# of Ratings' column to\n",
    "# new variable ratings_counts\n",
    "ratings_counts = sample_df['# of Ratings']\n",
    "\n",
    "# Plotting ratings_counts as a boxplot\n",
    "fig, ax = plt.subplots(figsize=(10,6))\n",
    "\n",
    "plt.tick_params(\n",
    "    axis='y',\n",
    "    which='both',\n",
    "    left=False,\n",
    "    labelleft=False)\n",
    "\n",
    "ax.boxplot(ratings_counts, vert=False)\n",
    "ax.set_title(\"Count of User Ratings for Movies on IMDb\")\n",
    "ax.set_xlabel(\"# of Ratings (in millions)\");"
   ]
  },
  {
   "cell_type": "markdown",
   "metadata": {},
   "source": [
    "That is a very skewed boxplot - it's hard to even make any sense of it. Let's look at the descriptive statistics for the `# of Ratings` column."
   ]
  },
  {
   "cell_type": "code",
   "execution_count": null,
   "metadata": {},
   "outputs": [],
   "source": [
    "ratings_counts.describe().apply(lambda x: format(x, 'f'))"
   ]
  },
  {
   "cell_type": "markdown",
   "metadata": {},
   "source": [
    "(The function to convert the output of `ratings_counts.describe()` from scientific notation to the above notation was provided by [Ash Upadhyay](https://stackoverflow.com/posts/47207283/revisions).)\n",
    "\n",
    "Wow... not only is our ```mean``` well above the ```50%``` value (the median), but it's **more than ten times larger** than the ```75%``` value! The most popular movie on the site is represented by `max` and has 1,841,066 ratings. \n",
    "\n",
    "From a business perspective, it probably doesn't make a lot of sense to home in on movies with low numbers of user ratings. In the SQL query below, we order by `numvotes`/`# of Ratings` once again, but we limit our output to 500. This yields a dataframe with information about the 500 movies with the greatest number of user ratings - not only is it more manageable than working with thousands of records, we're also only working movies that are verifiably **popular** with IMDb users."
   ]
  },
  {
   "cell_type": "code",
   "execution_count": null,
   "metadata": {},
   "outputs": [],
   "source": [
    "imdb_df_sample = pd.read_sql(\"\"\"\n",
    "    SELECT\n",
    "        -- Importing columns from movie_basics\n",
    "        mb.primary_title AS \"Title\",\n",
    "        mb.start_year AS \"Release Year\",\n",
    "        mb.genres AS \"genres\",\n",
    "        mb.runtime_minutes AS \"Runtime\",\n",
    "        -- Importing columns from movie_ratings\n",
    "        mr.averagerating AS \"Avg. Rating\",\n",
    "        mr.numvotes AS \"# of Ratings\"\n",
    "    FROM\n",
    "        movie_basics AS mb\n",
    "        JOIN movie_ratings AS mr\n",
    "            ON mb.movie_id = mr.movie_id\n",
    "    WHERE\n",
    "        -- Looking at movies only with more than 100,000\n",
    "        -- user ratings\n",
    "        mr.numvotes >= 100000 AND\n",
    "        -- Looking at movies only from 2010-2019 (most recent\n",
    "        -- year in dataset)\n",
    "        mb.start_year >= 2010\n",
    "    ORDER BY\n",
    "        mr.numvotes DESC\n",
    "    LIMIT 500\n",
    "\"\"\",con)\n",
    "\n",
    "print(imdb_df_sample.info())"
   ]
  },
  {
   "cell_type": "markdown",
   "metadata": {},
   "source": [
    "Okay, so we've got a sample of 500 movies, each of which has been rated *at least* 100,000 times by IMDb users (though we cannot guarantee these are all unique users.) This sample represents the 500 movies on the site with the greatest number of user ratings."
   ]
  },
  {
   "cell_type": "code",
   "execution_count": null,
   "metadata": {},
   "outputs": [],
   "source": [
    "# Database column 'genres' gives us multiple genres separated\n",
    "# by commas -- using split() to create a LIST of genres\n",
    "imdb_df_sample['genres'] = imdb_df_sample['genres'].str.split(',')\n",
    "\n",
    "# Let's look at the 10 movies with the highest # of user ratings\n",
    "imdb_df_sample.head(10)"
   ]
  },
  {
   "cell_type": "markdown",
   "metadata": {},
   "source": [
    "It looks like we have a pretty wide range of runtimes, and several of the movies with the highest average ratings on the site clock in at **over 2.5 hours!** Given the lack of correlation between a movie's runtime and its performance with critics we observed in the RottenTomatoes data, we can safely drop ```runtime_minutes``` / ```Runtime``` and focus on the other columns instead."
   ]
  },
  {
   "cell_type": "code",
   "execution_count": null,
   "metadata": {},
   "outputs": [],
   "source": [
    "imdb_df_sample.drop(columns=['Runtime'], inplace=True)"
   ]
  },
  {
   "cell_type": "markdown",
   "metadata": {},
   "source": [
    "Let's get a closer look at the `genres` column so that we can figure out what genres occur most frequently in this set of movies with 100,000+ user ratings."
   ]
  },
  {
   "cell_type": "code",
   "execution_count": null,
   "metadata": {},
   "outputs": [],
   "source": [
    "imdb_df_sample['genres']"
   ]
  },
  {
   "cell_type": "markdown",
   "metadata": {},
   "source": [
    "Looks like the ```genres``` column has a *list* of genres for each entry. We're going to need to split those lists up in order to get accurate value counts for each genre. (Credit for this function goes to [Max Hilsdorf](https://towardsdatascience.com/dealing-with-list-values-in-pandas-dataframes-a177e534f173).)"
   ]
  },
  {
   "cell_type": "code",
   "execution_count": null,
   "metadata": {},
   "outputs": [],
   "source": [
    "def to_1D(series):\n",
    "    return pd.Series([x for _list in series for x in _list])\n",
    "\n",
    "# Top ten most frequently occurring genres\n",
    "top_genres = to_1D(imdb_df_sample['genres']).value_counts().head(10)"
   ]
  },
  {
   "cell_type": "code",
   "execution_count": null,
   "metadata": {},
   "outputs": [],
   "source": [
    "# Plotting top ten genres\n",
    "genres_fig, ax = plt.subplots(figsize = (11, 6))\n",
    "\n",
    "ax.invert_yaxis()\n",
    "ax.barh(y=top_genres.index,\n",
    "       width=top_genres,\n",
    "       color='maroon',)\n",
    "ax.set_title(\"Popular Genres w/ IMDb Users, 2010-2019\")\n",
    "ax.set_xlabel(\"# of Movies with Genre Tag\")\n",
    "ax.set_ylabel(\"Genre\");"
   ]
  },
  {
   "cell_type": "markdown",
   "metadata": {},
   "source": [
    "Interesting. It looks like `Action` is the most popular genre, with nearly **half** of the 500 most-frequently-rated movies containing `Action` in their list of genres!\n",
    "\n",
    "`Drama` and `Adventure` sit in the second and third place slots, respectively, with `Comedy` in fourth place; this lends credence to the interpretation that `Drama` films reach a wider swath of moviegoers, though `Comedy` remains very popular. `Thriller` movies round out the top five.\n",
    "\n",
    "If we subset our data so that we're only looking at the most recent five years' worth of data, do these trends change at all? Let's find out."
   ]
  },
  {
   "cell_type": "code",
   "execution_count": null,
   "metadata": {},
   "outputs": [],
   "source": [
    "# Obtaining a dataframe of only movies released 2015-2019\n",
    "late_decade_df = imdb_df_sample[imdb_df_sample['Release Year'] >= 2015]\n",
    "\n",
    "# Creating another list of top ten genres\n",
    "genres2 = to_1D(late_decade_df['genres']).value_counts().head(10)\n",
    "\n",
    "# Creating a second graph\n",
    "genres_fig2, ax = plt.subplots(2, figsize = (11, 12))\n",
    "\n",
    "ax[0].invert_yaxis()\n",
    "ax[0].barh(y=genres2.index,\n",
    "       width=genres2,\n",
    "       color='purple')\n",
    "ax[0].set_title(\"Popular Genres w/ IMDb Users, 2015-2019 only\")\n",
    "ax[0].set_xlabel(\"# of Movies with Genre Tag\")\n",
    "ax[0].set_ylabel(\"Genre\")\n",
    "\n",
    "ax[1].invert_yaxis()\n",
    "ax[1].barh(y=top_genres.index,\n",
    "       width=top_genres,\n",
    "       color='orange',)\n",
    "ax[1].set_title(\"Popular Genres w/ IMDb Users, 2010-2019\")\n",
    "ax[1].set_xlabel(\"# of Movies with Genre Tag\")\n",
    "ax[1].set_ylabel(\"Genre\")\n",
    "genres_fig2.tight_layout(pad=3.0)\n"
   ]
  },
  {
   "cell_type": "markdown",
   "metadata": {},
   "source": [
    "These graphs are pretty comparable, both in their shapes and in their distributions of genres. We can observe an uptick in the popularity of `Sci-Fi` in the latter half of the 2010s, slightly eclipsing the popularity of `Thriller` movies (`Thriller` drops to 8<sup>th</sup> place, below `Crime` and `Fantasy`). The differences between the graphs are not profound or significant, but we can definitely comment on the increased profile of `Sci-Fi` films in the last five years' of data."
   ]
  },
  {
   "cell_type": "markdown",
   "metadata": {},
   "source": [
    "# Exploring Microsofts Gaming IPs"
   ]
  },
  {
   "cell_type": "markdown",
   "metadata": {},
   "source": [
    "Grabbed single chart from Wiki listing Microsoft Acquisitions"
   ]
  },
  {
   "cell_type": "code",
   "execution_count": null,
   "metadata": {},
   "outputs": [],
   "source": [
    "r = requests.get('https://en.wikipedia.org/wiki/List_of_mergers_and_acquisitions_by_Microsoft')\n",
    "soup = BeautifulSoup(r.text)\n",
    "table = soup.find('table', {'class': \"wikitable sortable\"})"
   ]
  },
  {
   "cell_type": "code",
   "execution_count": null,
   "metadata": {},
   "outputs": [],
   "source": [
    "len(table.find_all('tr')) \n",
    "#Checking to see if the length of the table matches the table on Wiki"
   ]
  },
  {
   "cell_type": "code",
   "execution_count": null,
   "metadata": {},
   "outputs": [],
   "source": [
    "Microsoft_Acquisitions_df = pd.read_html(table.prettify())[0]\n",
    "Microsoft_Acquisitions_df.head()"
   ]
  },
  {
   "cell_type": "code",
   "execution_count": null,
   "metadata": {},
   "outputs": [],
   "source": [
    "Microsoft_Acquisitions_df.info()"
   ]
  },
  {
   "cell_type": "code",
   "execution_count": null,
   "metadata": {},
   "outputs": [],
   "source": [
    "Microsoft_Acquisitions_df['Business'].value_counts() \n",
    "#~10% of of acquisitions by Microsoft according to this chart were in the videa gaming sector"
   ]
  },
  {
   "cell_type": "code",
   "execution_count": null,
   "metadata": {},
   "outputs": [],
   "source": [
    "Microsoft_Video_Games_df = Microsoft_Acquisitions_df[Microsoft_Acquisitions_df['Business'] == \"Video games\"]\n",
    "#Filtered only businesses that were video games from the Microsoft acquisitions table"
   ]
  },
  {
   "cell_type": "markdown",
   "metadata": {},
   "source": [
    "Remove key words that may reduce output downstream to make sure most desired data is acquired in cases where inconsistant inputs were entered in Chart.\n",
    "Made `Microsoft_Owned_Studios` cantains a list of the keywords to search through data base for similarities. Added Microsoft as a development studio as well as [Bethesda](https://en.wikipedia.org/wiki/Xbox_Game_Studios) which was owned by Zenimax and is in turn owned by Microsoft."
   ]
  },
  {
   "cell_type": "code",
   "execution_count": null,
   "metadata": {},
   "outputs": [],
   "source": [
    "Microsoft_Owned_Studios = list(Microsoft_Video_Games_df['Company']\n",
    ".str.replace(\" Games\", \"\")\n",
    ".str.replace(\" Entertainment\", \"\")\n",
    ".str.replace(\" Media\", \"\")\n",
    ".str.replace(\" Studios\", \"\")\n",
    ".str.replace(\" Productions\", \"\")\n",
    ".str.replace(\" Blizzard\", \"\"))+[\"Bethesda\"]+[\"Microsoft\"]"
   ]
  },
  {
   "cell_type": "code",
   "execution_count": null,
   "metadata": {},
   "outputs": [],
   "source": [
    "Microsoft_Owned_Studios #checked to make sure the above code worked"
   ]
  },
  {
   "cell_type": "markdown",
   "metadata": {},
   "source": [
    "Found and downloaded a csv file from Kaggle pertaining to video game data frame created by [RYANCOX](https://www.kaggle.com/coffeepot/videogame-sales/data)"
   ]
  },
  {
   "cell_type": "code",
   "execution_count": null,
   "metadata": {},
   "outputs": [],
   "source": [
    "video_game_df = pd.read_csv('Video_Games_Sales_as_at_22_Dec_2016.csv')\n",
    "video_game_df.info() #looking for miss data in Sales Column and the make up the data"
   ]
  },
  {
   "cell_type": "markdown",
   "metadata": {},
   "source": [
    "Cleaning up `video_game_df` removing missing data, filtering to containg only microsoft owned publishers (`Microsoft_Owned_Studios`), and adding visuals."
   ]
  },
  {
   "cell_type": "code",
   "execution_count": null,
   "metadata": {},
   "outputs": [],
   "source": [
    "video_no_NaN = video_game_df.dropna(subset= ['Publisher']) #Dropped missing values\n"
   ]
  },
  {
   "cell_type": "code",
   "execution_count": null,
   "metadata": {},
   "outputs": [],
   "source": [
    "('|'.join(Microsoft_Owned_Studios)) #Testing one of the filter that will go in a .str.contains()"
   ]
  },
  {
   "cell_type": "markdown",
   "metadata": {},
   "source": [
    "`Total_Microsoft_Df` is a df that has been filtered to contain only the publishers wanted.  Output for below cell shows the publishers that are in `Total_Microsoft_Df`"
   ]
  },
  {
   "cell_type": "code",
   "execution_count": null,
   "metadata": {},
   "outputs": [],
   "source": [
    "Total_Microsoft_Df=video_no_NaN.loc[video_no_NaN['Publisher'].str.contains('|'.join(Microsoft_Owned_Studios))]\n",
    "Total_Microsoft_Df['Publisher'].value_counts()"
   ]
  },
  {
   "cell_type": "markdown",
   "metadata": {},
   "source": [
    "Created data frames for `Top_10_GS`, `Top_10_NAS`, `Top_10_EUS`, and `TOP_10_JPS`."
   ]
  },
  {
   "cell_type": "code",
   "execution_count": null,
   "metadata": {},
   "outputs": [],
   "source": [
    "def removes_sequels_number(name): \n",
    "    '''\n",
    "    removes numbers or roman numerals at the end of the sequel title. Allows  us to group by IP\n",
    "    eg: Call of Duty: Black Ops 2, Call of Duty: Black Ops 3 = Call  of Duty: Black Ops\n",
    "    '''\n",
    "    name_inListForm = name.split()\n",
    "    if len(name_inListForm)==0:\n",
    "        return None\n",
    "    if name_inListForm[-1] in ['2','3','4','5','6','7','8','9','II','III','IV','V']: \n",
    "        return ' '.join(name_inListForm[:-1])\n",
    "    return name"
   ]
  },
  {
   "cell_type": "code",
   "execution_count": null,
   "metadata": {},
   "outputs": [],
   "source": [
    "Total_Microsoft_Df['Name'] = Total_Microsoft_Df['Name'].map(removes_sequels_number)\n",
    "Total_Microsoft_Df['Name'].value_counts()"
   ]
  },
  {
   "cell_type": "code",
   "execution_count": null,
   "metadata": {},
   "outputs": [],
   "source": [
    "Top_10_GS = Total_Microsoft_Df.groupby(\"Name\").sum().sort_values(by= 'Global_Sales', ascending = False).head(10).reset_index()\n",
    "Top_10_GS"
   ]
  },
  {
   "cell_type": "code",
   "execution_count": null,
   "metadata": {},
   "outputs": [],
   "source": [
    "Top_10_NAS = Total_Microsoft_Df.groupby(\"Name\").sum().sort_values(by= 'NA_Sales', ascending = False).head(10).reset_index()\n",
    "Top_10_EUS = Total_Microsoft_Df.groupby(\"Name\").sum().sort_values(by= 'EU_Sales', ascending = False).head(10).reset_index()\n",
    "Top_10_JPS = Total_Microsoft_Df.groupby(\"Name\").sum().sort_values(by= 'JP_Sales', ascending = False).head(10).reset_index()"
   ]
  },
  {
   "cell_type": "markdown",
   "metadata": {},
   "source": [
    "### Global Sales Vizualizations"
   ]
  },
  {
   "cell_type": "code",
   "execution_count": null,
   "metadata": {},
   "outputs": [],
   "source": [
    "fig, ax = plt.subplots(figsize = (15,10))\n",
    "\n",
    "ax.invert_yaxis()\n",
    "\n",
    "ax.barh(y=Top_10_GS['Name'],\n",
    "       width=Top_10_GS['Global_Sales'],\n",
    "       color='maroon')\n",
    "ax.set_title(\"\"\"Global Sales as of 2016 by IP currently owned by Microsoft\"\"\")\n",
    "ax.set_xlabel(\"Sales in millions of units\")\n",
    "ax.set_ylabel(\"Game Name\")\n",
    "\n"
   ]
  },
  {
   "cell_type": "markdown",
   "metadata": {},
   "source": [
    "Using our video game sales dataset and grouping by titles that Microsoft now owns we can see a list of potential candidates that can be adapted on to the silver screen. Here are some of the popular IPs as of 2016 that now Microsoft owns. Call of Duty (CoD) as an IP really sticks with its various iterations selling about 180m copies across multiple platforms. But besides CoD Microsoft has plenty of options with Gears of War, Elder Scrolls, Fallout, and Halo.\n",
    "\n",
    "Lets look at some of the regional sales."
   ]
  },
  {
   "cell_type": "markdown",
   "metadata": {},
   "source": [
    "### NA Vizualizations"
   ]
  },
  {
   "cell_type": "code",
   "execution_count": null,
   "metadata": {},
   "outputs": [],
   "source": [
    "fig, ax = plt.subplots(figsize = (15,10))\n",
    "\n",
    "ax.invert_yaxis()\n",
    "\n",
    "ax.barh(y=Top_10_NAS['Name'],\n",
    "       width=Top_10_NAS['NA_Sales'],\n",
    "       color='maroon')\n",
    "ax.set_title(\"\"\"NA Sales as of 2016 by IP currently owned by Microsoft\"\"\")\n",
    "ax.set_xlabel(\"Sales in millions of units\")\n",
    "ax.set_ylabel(\"Game Name\");"
   ]
  },
  {
   "cell_type": "markdown",
   "metadata": {},
   "source": [
    "### EU Sales Vizualizations"
   ]
  },
  {
   "cell_type": "code",
   "execution_count": null,
   "metadata": {},
   "outputs": [],
   "source": [
    "fig, ax = plt.subplots(figsize = (15,10))\n",
    "\n",
    "ax.invert_yaxis()\n",
    "\n",
    "ax.barh(y=Top_10_EUS['Name'],\n",
    "       width=Top_10_EUS['EU_Sales'],\n",
    "       color='maroon')\n",
    "ax.set_title(\"\"\"EU Sales as of 2016 by IP currently owned by Microsoft\"\"\")\n",
    "ax.set_xlabel(\"Sales in millions of units\")\n",
    "ax.set_ylabel(\"Game Name\");"
   ]
  },
  {
   "cell_type": "markdown",
   "metadata": {},
   "source": [
    "### JP Sales Vizualizations"
   ]
  },
  {
   "cell_type": "code",
   "execution_count": null,
   "metadata": {},
   "outputs": [],
   "source": [
    "fig, ax = plt.subplots(figsize = (15,10))\n",
    "\n",
    "ax.invert_yaxis()\n",
    "\n",
    "ax.barh(y=Top_10_JPS['Name'],\n",
    "       width=Top_10_JPS['JP_Sales'],\n",
    "       color='purple')\n",
    "ax.set_title(\"\"\"JP Sales as of 2016 by IP currently owned by Microsoft\"\"\")\n",
    "ax.set_xlabel(\"Sales in millions of units\")\n",
    "ax.set_ylabel(\"Game Name\");"
   ]
  },
  {
   "cell_type": "markdown",
   "metadata": {},
   "source": [
    "# Final Thoughts"
   ]
  },
  {
   "cell_type": "markdown",
   "metadata": {},
   "source": [
    "## Recommendations\n",
    "\n",
    "Looking at the data gathered some more precise recommendations can be made:\n",
    "-   To appeal to the critcal crowd, Microsoft should leverage its Call of Duty franchise. These games were at one point exclusively World War stories and would be a good fit to tell hard hitting stories, a la, 1917 or Saving Private Ryan\n",
    "-   Microsoft should leverage its Halo franchise to make SciFi action movie and bring the lore of Master Chief to the silver screen. \n",
    "-   Minecraft and Kinect Adventures! would be great candidates for a comedy adventure that can appeal to both adults and children "
   ]
  },
  {
   "cell_type": "markdown",
   "metadata": {},
   "source": [
    "## Conclusions\n",
    "-   Entering movies/video entertainment is profitable, and for the best chance at success Microsoft should target the (American) summer or winter holiday timeframe\n",
    "-   Action/Adventure/Drama movies are consistently popular across 2010-2019, the latter especially with critics. Sci-Fi movies on the rise 2015-2019\n",
    "-   Acquisition of Activision Blizzard and other developer studios opens the door for unique video game adaptations, e.g. Call of Duty and other properties like Elder Scrolls, Fallout, etc.\n",
    " \n",
    "\n"
   ]
  },
  {
   "cell_type": "markdown",
   "metadata": {},
   "source": [
    "## Next Steps\n",
    "- Explore best writers/directors to helm such projects\n",
    "- Further dive into Microsoft's catalog of IPs\n",
    "- Explore other Microsoft-owned properties for further film adaptations"
   ]
  },
  {
   "cell_type": "markdown",
   "metadata": {},
   "source": [
    "## Citations:\n",
    "\n",
    " \n",
    "[List of mergers and acquisitions by Microsoft](https://en.wikipedia.org/wiki/List_of_mergers_and_acquisitions_by_Microsoft)\n",
    "\n",
    "[Xbox Game Studios](https://en.wikipedia.org/wiki/Xbox_Game_Studios)\n",
    "\n",
    "[Video game sales (Kaggle)](https://www.kaggle.com/coffeepot/videogame-sales/data)\n",
    " \n",
    "[Check if a string in a series is in a list of strings](https://stackoverflow.com/questions/17972938/check-if-a-string-in-a-pandas-dataframe-column-is-in-a-list-of-strings)\n"
   ]
  },
  {
   "cell_type": "code",
   "execution_count": null,
   "metadata": {},
   "outputs": [],
   "source": []
  }
 ],
 "metadata": {
  "kernelspec": {
   "display_name": "Python 3 (ipykernel)",
   "language": "python",
   "name": "python3"
  },
  "language_info": {
   "codemirror_mode": {
    "name": "ipython",
    "version": 3
   },
   "file_extension": ".py",
   "mimetype": "text/x-python",
   "name": "python",
   "nbconvert_exporter": "python",
   "pygments_lexer": "ipython3",
   "version": "3.11.4"
  }
 },
 "nbformat": 4,
 "nbformat_minor": 2
}
